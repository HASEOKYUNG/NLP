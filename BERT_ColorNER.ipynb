{
 "cells": [
  {
   "cell_type": "markdown",
   "id": "03649b8e",
   "metadata": {},
   "source": [
    "### BERT base_model"
   ]
  },
  {
   "cell_type": "code",
   "execution_count": null,
   "id": "022004c6",
   "metadata": {},
   "outputs": [],
   "source": [
    "from transformers import BertTokenizerFast, BertForTokenClassification, Trainer, TrainingArguments\n",
    "from torch.utils.data import Dataset\n",
    "import torch"
   ]
  },
  {
   "cell_type": "code",
   "execution_count": null,
   "id": "5e805377",
   "metadata": {},
   "outputs": [],
   "source": [
    "tokenizer = BertTokenizerFast.from_pretrained('bert-base-multilingual-cased')\n",
    "model = BertForTokenClassification.from_pretrained('bert-base-multilingual-cased', num_labels=2)"
   ]
  },
  {
   "cell_type": "code",
   "execution_count": null,
   "id": "51a7eade",
   "metadata": {},
   "outputs": [],
   "source": [
    "class NERDataset(Dataset):\n",
    "    def __init__(self, texts, labels, tokenizer, max_len):\n",
    "        self.texts = texts\n",
    "        self.labels = labels\n",
    "        self.tokenizer = tokenizer\n",
    "        self.max_len = max_len\n",
    "\n",
    "    def __len__(self):\n",
    "        return len(self.texts)\n",
    "\n",
    "    def __getitem__(self, item):\n",
    "        text = self.texts[item]\n",
    "        labels = self.labels[item]\n",
    "\n",
    "        # 텍스트 토크나이징\n",
    "        encoding = self.tokenizer(text,\n",
    "                                  return_tensors='pt',\n",
    "                                  padding='max_length',\n",
    "                                  truncation=True,\n",
    "                                  max_length=self.max_len,\n",
    "                                  is_split_into_words=True,\n",
    "                                  return_offsets_mapping=True)\n",
    "        # 오프셋 매핑을 사용해 원본 토큰과 매핑된 레이블을 연결\n",
    "        labels = [labels[i] for i, offset in enumerate(encoding.offset_mapping[0]) if offset[0] == 0]\n",
    "\n",
    "        # 레이블을 텐서로 변환\n",
    "        labels += [0] * (self.max_len - len(labels))  # 패딩 토큰에 대한 레이블\n",
    "        labels = torch.tensor(labels)\n",
    "\n",
    "        return {\n",
    "            'input_ids': encoding['input_ids'].flatten(),\n",
    "            'attention_mask': encoding['attention_mask'].flatten(),\n",
    "            'labels': labels}"
   ]
  },
  {
   "cell_type": "code",
   "execution_count": null,
   "id": "284645fb",
   "metadata": {},
   "outputs": [],
   "source": [
    "texts = [[\"XXXX\", \"-\", \"Classic\", \"Black\"]]\n",
    "labels = [[0, 0, 0, 1]]  # 'Black'이 색상 엔티티라고 가정\n",
    "\n",
    "tokenizer = BertTokenizerFast.from_pretrained('bert-base-multilingual-cased')\n",
    "max_len = 128\n",
    "\n",
    "# 데이터셋 인스턴스 생성\n",
    "dataset = NERDataset(texts, labels, tokenizer, max_len)\n"
   ]
  },
  {
   "cell_type": "code",
   "execution_count": null,
   "id": "062f39de",
   "metadata": {},
   "outputs": [],
   "source": [
    "model = BertForTokenClassification.from_pretrained('bert-base-multilingual-cased', num_labels=2)  # 예를 들어 '색상'과 '비색상' 2개의 레이블\n",
    "\n",
    "training_args = TrainingArguments(\n",
    "    output_dir='./results',\n",
    "    num_train_epochs=3,\n",
    "    per_device_train_batch_size=16,\n",
    "    warmup_steps=500,\n",
    "    weight_decay=0.01,\n",
    "    logging_dir='./logs',\n",
    "    logging_steps=10,\n",
    ")\n"
   ]
  },
  {
   "cell_type": "code",
   "execution_count": null,
   "id": "0da8fa80",
   "metadata": {},
   "outputs": [],
   "source": [
    "trainer = Trainer(\n",
    "    model=model,\n",
    "    args=training_args,\n",
    "    train_dataset=dataset,\n",
    "    # eval_dataset=validation_dataset,  # 평가 데이터셋이 있다면 추가\n",
    ")\n",
    "\n",
    "trainer.train()\n"
   ]
  }
 ],
 "metadata": {
  "kernelspec": {
   "display_name": "Python 3 (ipykernel)",
   "language": "python",
   "name": "python3"
  },
  "language_info": {
   "codemirror_mode": {
    "name": "ipython",
    "version": 3
   },
   "file_extension": ".py",
   "mimetype": "text/x-python",
   "name": "python",
   "nbconvert_exporter": "python",
   "pygments_lexer": "ipython3",
   "version": "3.9.12"
  }
 },
 "nbformat": 4,
 "nbformat_minor": 5
}
