{
 "cells": [
  {
   "cell_type": "markdown",
   "id": "95c5b38f",
   "metadata": {},
   "source": [
    "1. Streamlit 앱 구성\n",
    "Streamlit을 사용하여 사용자 인터페이스를 구성합니다. 사용자가 입력할 수 있는 텍스트 박스와 실행 버튼을 포함해야 합니다.\n",
    "2. ChatGPT API 호출\n",
    "사용자가 질문을 입력하고 실행 버튼을 누르면, Streamlit 앱이 ChatGPT API를 호출하여 질문에 대한 답변(실행할 Python 코드 포함)을 받아옵니다.\n",
    "3. 코드 실행\n",
    "받아온 코드를 실행하는 방법은 두 가지입니다:\n",
    "Google Colab: Colab Notebook URL을 생성하고, 해당 Notebook에 Python 코드를 자동으로 입력하여 실행하게 할 수 있습니다. 이를 위해 Google Colab의 API를 사용하거나, Colab Notebook에 코드를 미리 작성하고 해당 부분을 실행하는 URL을 생성할 수 있습니다.\n",
    "로컬 환경: 사용자의 로컬 환경에서 Python 파일을 생성하고, 해당 파일을 실행하는 방법입니다. 이 경우, 사용자의 컴퓨터에 Python과 필요한 라이브러리가 설치되어 있어야 합니다.\n",
    "4. 결과 전달\n",
    "코드 실행 결과를 사용자에게 전달합니다. 이것은 실행 로그나 생성된 데이터의 시각화 등이 될 수 있습니다."
   ]
  },
  {
   "cell_type": "code",
   "execution_count": null,
   "id": "1d5c1b29",
   "metadata": {},
   "outputs": [],
   "source": [
    "import streamlit as st\n",
    "import requests\n",
    "\n",
    "def call_chatgpt_api(question):\n",
    "    # ChatGPT API 호출 함수 (여기서는 예시로만 작성)\n",
    "    response = \"여기에 ChatGPT의 답변이 포함된 코드\"\n",
    "    return response\n",
    "\n",
    "def run_python_code(code):\n",
    "    # Python 코드를 실행하는 함수\n",
    "    # 여기에 Google Colab 실행 또는 로컬 실행 코드를 삽입\n",
    "    pass\n",
    "\n",
    "st.title('ChatGPT와 함께하는 코드 실행기')\n",
    "\n",
    "user_input = st.text_area(\"질문을 입력하세요\", \"\")\n",
    "run_button = st.button(\"실행\")\n",
    "\n",
    "if run_button:\n",
    "    code = call_chatgpt_api(user_input)\n",
    "    result = run_python_code(code)\n",
    "    st.text(\"실행 결과:\")\n",
    "    st.write(result)"
   ]
  },
  {
   "cell_type": "code",
   "execution_count": null,
   "id": "8acd54f5",
   "metadata": {},
   "outputs": [],
   "source": [
    "import streamlit as st\n",
    "import os\n",
    "\n",
    "# ChatGPT API 호출 및 Python 코드 실행 함수는 이전 예시 참조\n",
    "\n",
    "st.title('ChatGPT와 함께하는 코드 실행기')\n",
    "\n",
    "user_input = st.text_area(\"질문을 입력하세요\", \"\")\n",
    "run_button = st.button(\"실행\")\n",
    "\n",
    "if run_button:\n",
    "    code, action = call_chatgpt_api(user_input)  # `action`은 'chart', 'data', 'code' 등이 될 수 있음\n",
    "    if action == 'chart':\n",
    "        # 차트 그리기 요청 처리\n",
    "        data = parse_data_from_code(code)  # 코드에서 데이터 파싱하는 함수 (구현 필요)\n",
    "        file_name = 'chart.png'\n",
    "        create_and_save_chart(data, 'bar', file_name)\n",
    "        st.image(file_name)\n",
    "        os.remove(file_name)  # 파일 사용 후 삭제\n",
    "    elif action == 'data':\n",
    "        # 데이터 추출 요청 처리\n",
    "        dataframe = parse_dataframe_from_code(code)  # 코드에서 DataFrame 추출하는 함수 (구현 필요)\n",
    "        file_name = 'data.xlsx'\n",
    "        convert_df_to_excel(dataframe, file_name)\n",
    "        st.download_button('Excel 파일 다운로드', file_name)\n",
    "        os.remove(file_name)  # 파일 사용 후 삭제\n",
    "    else:\n",
    "        # 기타 Python 코드 실행\n",
    "        result = run_python_code(code)\n",
    "        st.text(\"실행 결과:\")\n",
    "        st.write(result)"
   ]
  },
  {
   "cell_type": "code",
   "execution_count": null,
   "id": "2d1112ec",
   "metadata": {},
   "outputs": [],
   "source": [
    "import matplotlib.pyplot as plt\n",
    "\n",
    "def create_and_save_chart(data, chart_type, file_name):\n",
    "    if chart_type == 'bar':  # 막대 차트의 예시\n",
    "        plt.figure(figsize=(10, 6))\n",
    "        plt.bar(data['x'], data['y'], color='blue')\n",
    "        plt.xlabel('X Axis Label')\n",
    "        plt.ylabel('Y Axis Label')\n",
    "        plt.title('Bar Chart Title')\n",
    "        plt.savefig(file_name)"
   ]
  },
  {
   "cell_type": "code",
   "execution_count": null,
   "id": "0b59cc4d",
   "metadata": {},
   "outputs": [],
   "source": [
    "import pandas as pd\n",
    "\n",
    "def convert_df_to_excel(dataframe, file_name):\n",
    "    # DataFrame을 Excel 파일로 변환\n",
    "    dataframe.to_excel(file_name, index=False)"
   ]
  },
  {
   "cell_type": "markdown",
   "id": "156ae58b",
   "metadata": {},
   "source": [
    "주의사항\n",
    "Google Colab이나 사용자의 로컬 환경에서 코드를 실행할 때 보안상의 이유로 신중해야 합니다. 신뢰할 수 없는 코드의 실행은 시스템에 해를 끼칠 수 있습니다.\n",
    "ChatGPT API 호출을 위해서는 OpenAI의 GPT API 키가 필요하며, API 사용량에 따라 비용이 발생할 수 있습니다.\n",
    "사용자의 로컬 환경에서 코드를 실행하기 위해서는 사용자가 해당 코드를 직접 다운로드하고 실행해야 하므로, 사용자 인터페이스를 통해 명확하게 안내해야 합니다."
   ]
  },
  {
   "cell_type": "code",
   "execution_count": null,
   "id": "c058273f",
   "metadata": {},
   "outputs": [],
   "source": []
  }
 ],
 "metadata": {
  "kernelspec": {
   "display_name": "Python 3 (ipykernel)",
   "language": "python",
   "name": "python3"
  },
  "language_info": {
   "codemirror_mode": {
    "name": "ipython",
    "version": 3
   },
   "file_extension": ".py",
   "mimetype": "text/x-python",
   "name": "python",
   "nbconvert_exporter": "python",
   "pygments_lexer": "ipython3",
   "version": "3.9.7"
  }
 },
 "nbformat": 4,
 "nbformat_minor": 5
}
